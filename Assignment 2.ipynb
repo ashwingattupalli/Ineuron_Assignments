{
 "cells": [
  {
   "cell_type": "markdown",
   "metadata": {},
   "source": [
    "**Task 1:**\n",
    "* 1.1<br>\n",
    "* Write a Python Program to implement your own myreduce() function which works exactly like<br>\n",
    "  Python's built-in function reduce()"
   ]
  },
  {
   "cell_type": "code",
   "execution_count": 26,
   "metadata": {},
   "outputs": [
    {
     "name": "stdout",
     "output_type": "stream",
     "text": [
      "Sum on list [1,2,3] using custom reduce function 6\n"
     ]
    }
   ],
   "source": [
    "def myreduce(af, seq):\n",
    "\n",
    " # Get first item in sequence and assign to result\n",
    "  result = seq[0]\n",
    " # iterate over remaining items in sequence and apply reduction function \n",
    "  for i in seq[1:]:\n",
    "   result = af(result, i)\n",
    "\n",
    "  return result\n",
    "\n",
    "# Defining the Sum function as test function for passing it onto reduce function\n",
    "def sum(x,y): return x + y\n",
    "\n",
    "#Finally testing above implemented Function\n",
    "print (\"Sum on list [1,2,3] using custom reduce function \"   + str(myreduce(sum, [1,2,3])) )"
   ]
  },
  {
   "cell_type": "markdown",
   "metadata": {},
   "source": [
    "**1.2**\n",
    "* Write a Python program to implement your own myfilter() function which works exactly like<br>\n",
    "  Python's built-in function filter()"
   ]
  },
  {
   "cell_type": "code",
   "execution_count": 27,
   "metadata": {},
   "outputs": [
    {
     "name": "stdout",
     "output_type": "stream",
     "text": [
      "Filter only positive Integers on list [0,1,-2,3,4,5] using custom filter function[1, 3, 4, 5]\n"
     ]
    }
   ],
   "source": [
    "def myfilter(af, seq):\n",
    "\n",
    " # Initialize empty list\n",
    " result = []\n",
    " # iterate over sequence of items in sequence and apply filter function\n",
    " for i in seq:\n",
    "  if af(i):\n",
    "   result.append(i)\n",
    "\n",
    " # return final output\n",
    " return result\n",
    "\n",
    "# Defining the test function to drive the filtration activity of extracting positive integers from a given list\n",
    "def ispositive(x):\n",
    " if (x <= 0): \n",
    "  return False \n",
    " else: \n",
    "  return True\n",
    "\n",
    "# Finally testing the above function\n",
    "print (\"Filter only positive Integers on list [0,1,-2,3,4,5] using custom filter function\"  + str(myfilter(ispositive, [0,1,-2,3,4,5])))"
   ]
  },
  {
   "cell_type": "markdown",
   "metadata": {},
   "source": [
    "**2.**<br>\n",
    "* Implement List comprehensions to produce the following lists.\n",
    "* Write List comprehensions to produce the following Lists\n",
    "* ['A', 'C', 'A', 'D', 'G', 'I', ’L’, ‘ D’]\n",
    "* ['x', 'xx', 'xxx', 'xxxx', 'y', 'yy', 'yyy', 'yyyy', 'z', 'zz', 'zzz', 'zzzz']\n",
    "* ['x', 'y', 'z', 'xx', 'yy', 'zz', 'xx', 'yy', 'zz', 'xxxx', 'yyyy', 'zzzz']\n",
    "* [[2], [3], [4], [3], [4], [5], [4], [5], [6]]\n",
    "* [[2, 3, 4, 5], [3, 4, 5, 6], [4, 5, 6, 7], [5, 6, 7, 8]]\n",
    "* [(1, 1), (2, 1), (3, 1), (1, 2), (2, 2), (3, 2), (1, 3), (2, 3), (3, 3)]\n"
   ]
  },
  {
   "cell_type": "code",
   "execution_count": 28,
   "metadata": {},
   "outputs": [
    {
     "name": "stdout",
     "output_type": "stream",
     "text": [
      "['A', 'C', 'A', 'D', 'G', 'L', 'I', 'D']\n",
      "['x', 'xx', 'xxx', 'xxxx', 'y', 'yy', 'yyy', 'yyyy', 'z', 'zz', 'zzz', 'zzzz']\n",
      "['x', 'y', 'z', 'xx', 'yy', 'zz', 'xxx', 'yyy', 'zzz', 'xxxx', 'yyyy', 'zzzz']\n",
      "[[2], [3], [4], [3], [4], [5], [4], [5], [6]]\n",
      "[[2, 3, 4, 5], [3, 4, 5, 6], [4, 5, 6, 7], [5, 6, 7, 8]]\n",
      "[(1, 1), (1, 2), (1, 3), (2, 1), (2, 2), (2, 3), (3, 1), (3, 2), (3, 3)]\n"
     ]
    }
   ],
   "source": [
    "#2a simple iteration over the string.\n",
    "l1=[x  for x in \"ACADGLID\"]\n",
    "print(l1)\n",
    "#paring up the elements and iterating them\n",
    "il=['x','y','z']\n",
    "l1=[n*i for n in il for i in range(1,5)]\n",
    "print(l1)\n",
    "#Iterating in successive repetitons.\n",
    "l1=[[i*j for i in il] for j in range(1,5)]\n",
    "fl1=[val for i in l1 for val in i]\n",
    "print(fl1)\n",
    "l1=[[i+j] for i in [2,3,4] for j in range(0,3)]\n",
    "print(l1)\n",
    "l1=[[i for i in range(j,j+4)] for j in range(2,6)]\n",
    "print(l1)\n",
    "l1=[(i,j) for i in range(1,4) for j in range(1,4) ]\n",
    "print(l1)"
   ]
  },
  {
   "cell_type": "markdown",
   "metadata": {},
   "source": [
    "**3.**\n",
    "* Implement a function longestWord() that takes a list of words and returns the longest one."
   ]
  },
  {
   "cell_type": "code",
   "execution_count": 29,
   "metadata": {},
   "outputs": [
    {
     "data": {
      "text/plain": [
       "'abcdefg'"
      ]
     },
     "execution_count": 29,
     "metadata": {},
     "output_type": "execute_result"
    }
   ],
   "source": [
    "def longestWord(l):\n",
    "    \"\"\"This function is responsible for generating longest word from a list of words\"\"\"\n",
    "    max=0\n",
    "    maxi=0\n",
    "    # Iterate over entire list and find out the max one\n",
    "    for i in l:\n",
    "        if len(i) > max:\n",
    "            max=len(l)\n",
    "            maxi=i\n",
    "    # above logic is using one loop so can be done in O(n) time complexity.\n",
    "    return maxi\n",
    "l=[\"abc\",\"abcd\",\"abcde\",\"abcdefg\"]\n",
    "longestWord(l)"
   ]
  },
  {
   "cell_type": "markdown",
   "metadata": {},
   "source": [
    "**Task 2:**<br>\n",
    "**1.1**\n",
    "* Write a Python Program(with class concepts) to find the area of the triangle using the below\n",
    "  formula.\n",
    "* area = (s*(s-a)*(s-b)*(s-c)) ** 0.5\n",
    "* Function to take the length of the sides of triangle from user should be defined in the parent\n",
    "  class and function to calculate the area should be defined in subclass."
   ]
  },
  {
   "cell_type": "code",
   "execution_count": 30,
   "metadata": {},
   "outputs": [
    {
     "name": "stdout",
     "output_type": "stream",
     "text": [
      "Enter the sides of triangle : 5 6 7\n",
      "The area of the triangle is 14.70\n"
     ]
    }
   ],
   "source": [
    "class User:\n",
    "    \"\"\"This class is required for reading inputs from user\"\"\"\n",
    "    # Defing the constructor in parent class to read the sides of triangle from user \n",
    "    # reading all the sides using single line input\n",
    "    def __init__(self):\n",
    "        self.a,self.b,self.c=map(int,input(\"Enter the sides of triangle : \").split(\" \"))\n",
    "        self.s=(self.a + self.b + self.c) * 0.5\n",
    "              \n",
    "class Area(User):\n",
    "    \"\"\"This class is derived from user class and is required for calculating area of a triangle\"\"\"\n",
    "    def calculate(self):\n",
    "        # Accessing parent class variables here as this class is derived from user so same reference can be used here.\n",
    "        area=(self.s*(self.s-self.a)*(self.s-self.b)*(self.s-self.c)) ** 0.5\n",
    "        print('The area of the triangle is %0.2f' %area)\n",
    "a=Area()\n",
    "a.calculate()"
   ]
  },
  {
   "cell_type": "markdown",
   "metadata": {},
   "source": [
    "**1.2**\n",
    "* Write a function filter_long_words() that takes a list of words and an integer n and returns the list\n",
    "  of words that are longer than n."
   ]
  },
  {
   "cell_type": "code",
   "execution_count": 31,
   "metadata": {},
   "outputs": [
    {
     "name": "stdout",
     "output_type": "stream",
     "text": [
      "['abcd', 'abcde', 'abcdefg']\n"
     ]
    }
   ],
   "source": [
    "def filter_long_words(l,n):\n",
    "    \"\"\"This function extracts the a sublist of words from a list of words which has a length greater than n\"\"\"\n",
    "    maxi=[]\n",
    "    # creating an empty list to store the list of words\n",
    "    for i in l:\n",
    "        if len(i) > n:\n",
    "            # appending the string to empty list if its length is greater than n\n",
    "            maxi.append(i)\n",
    "    #finally returning the string\n",
    "    return maxi\n",
    "l=[\"abc\",\"abcd\",\"abcde\",\"abcdefg\"]\n",
    "# Setting n to 3\n",
    "n=3\n",
    "print(filter_long_words(l,n))"
   ]
  },
  {
   "cell_type": "markdown",
   "metadata": {},
   "source": [
    "**2.1**\n",
    "* Write a Python program using function concept that maps list of words into a list of integers\n",
    "  representing the lengths of the corresponding words .\n",
    "* Hint: If a list [ ab,cde,erty] is passed on to the python function output should come as [2,3,4]\n",
    "  Here 2,3 and 4 are the lengths of the words in the list."
   ]
  },
  {
   "cell_type": "code",
   "execution_count": 32,
   "metadata": {},
   "outputs": [
    {
     "name": "stdout",
     "output_type": "stream",
     "text": [
      "[2, 3, 4]\n"
     ]
    }
   ],
   "source": [
    "def map_len_to_words(l):\n",
    "    \"\"\"This function maps the length of words in a list and returns them as list of integers\"\"\"\n",
    "    ml=[]\n",
    "    # Creating an empty list to store the length of the words\n",
    "    for i in l:\n",
    "        # appending the length of each word in the list\n",
    "        ml.append(len(i))\n",
    "    # Finally returning the new list of integers as required\n",
    "    return ml\n",
    "l=[\"ab\",\"cde\",\"erty\"]\n",
    "print(map_len_to_words(l))"
   ]
  },
  {
   "cell_type": "markdown",
   "metadata": {},
   "source": [
    "**2.2**\n",
    "* Write a Python function which takes a character (i.e. a string of length 1) and returns True if it is\n",
    "  a vowel, False otherwise."
   ]
  },
  {
   "cell_type": "code",
   "execution_count": 33,
   "metadata": {},
   "outputs": [
    {
     "name": "stdout",
     "output_type": "stream",
     "text": [
      "True\n",
      "False\n"
     ]
    }
   ],
   "source": [
    "def isvowel(s):\n",
    "    \"\"\"This function checks whether a given character is a vowel or not returns boolean values\"\"\"\n",
    "    if s not in \"aeiou\":\n",
    "        return \"False\"\n",
    "    else:\n",
    "        return \"True\"\n",
    "s=\"a\"\n",
    "# checking on vowel char\n",
    "print(isvowel(s))\n",
    "s=\"b\"\n",
    "# Checking on Consonant Char\n",
    "print(isvowel(s))"
   ]
  },
  {
   "cell_type": "code",
   "execution_count": null,
   "metadata": {},
   "outputs": [],
   "source": []
  }
 ],
 "metadata": {
  "kernelspec": {
   "display_name": "Python 3",
   "language": "python",
   "name": "python3"
  },
  "language_info": {
   "codemirror_mode": {
    "name": "ipython",
    "version": 3
   },
   "file_extension": ".py",
   "mimetype": "text/x-python",
   "name": "python",
   "nbconvert_exporter": "python",
   "pygments_lexer": "ipython3",
   "version": "3.7.2"
  }
 },
 "nbformat": 4,
 "nbformat_minor": 2
}
